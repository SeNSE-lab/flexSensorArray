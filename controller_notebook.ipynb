{
 "cells": [
  {
   "cell_type": "code",
   "execution_count": null,
   "id": "ff56ca82-2401-46d2-a774-a25c0b4e25cf",
   "metadata": {},
   "outputs": [],
   "source": [
    "import flexlib\n",
    "from matplotlib import pyplot as plt\n",
    "import time\n",
    "from IPython.display import display, clear_output\n",
    "import threading\n",
    "%matplotlib inline\n",
    "import importlib\n",
    "importlib.reload(flexlib)"
   ]
  },
  {
   "cell_type": "markdown",
   "id": "d24f11b6-8d47-4f71-ae49-74beb957ce97",
   "metadata": {},
   "source": [
    "## Initialize session"
   ]
  },
  {
   "cell_type": "code",
   "execution_count": null,
   "id": "2b5ba79d-1d32-4a4a-97cb-9e30de7a655e",
   "metadata": {},
   "outputs": [],
   "source": [
    "# create a motorController object with one stepper connected to the first position with 2 whiskers that will whisk from 20 degrees to 120 degrees\n",
    "# when the whisker signal gets 100 steps above its value read during init(), it will palpate 3 times pushing 22 steps past detected contact position,\n",
    "# then pull back to 6 steps before contact position\n",
    "ctrl = flexlib.MotorController(exp_tag='my_exp_title', shield_addrs=[0],  motor_startup='1', num_whiskers_per_col=2, \\\n",
    "                               prot_steps=flexlib.deg_to_steps(120), ret_steps=flexlib.deg_to_steps(20), contact_thresh=100,\\\n",
    "                              push_steps=22, pull_steps=6, palpate_num=3, contact_behavior='palpate') "
   ]
  },
  {
   "cell_type": "code",
   "execution_count": null,
   "id": "283861bd-cf5d-4c19-a84e-c338d5603db2",
   "metadata": {},
   "outputs": [],
   "source": [
    "# initialize the experiment - this will complete the setup process, home the motors, and start data streaming\n",
    "ctrl.init()     "
   ]
  },
  {
   "cell_type": "markdown",
   "id": "80394a75-d62b-4287-82d7-043d331ea622",
   "metadata": {},
   "source": [
    "## Run experiment\n",
    "Whisks constantly until stop_whisking() is called. If contact_behavior='palpate', it will palpate palpate_num times when a whisker signal \n",
    "is contact_thresh steps above resting. This is handled in a thread that is also reading in data, so other commands could still be run \n",
    "while whisking. See the bottom of this notebook for an example that spawns a thread to plot the incoming whisker signals."
   ]
  },
  {
   "cell_type": "code",
   "execution_count": null,
   "id": "9b95029a-c2d6-4010-b15b-10857d7a1165",
   "metadata": {},
   "outputs": [],
   "source": [
    "ctrl.start_whisking()"
   ]
  },
  {
   "cell_type": "code",
   "execution_count": null,
   "id": "77ebb3fc-9169-48b3-804e-aef8a96a1f6e",
   "metadata": {},
   "outputs": [],
   "source": [
    "ctrl.stop_whisking()"
   ]
  },
  {
   "cell_type": "code",
   "execution_count": null,
   "id": "6c8e2e56-bb34-453e-a1e6-c05fe4a434f4",
   "metadata": {},
   "outputs": [],
   "source": [
    "# shutdown experiment and save data log (it is reccommended to restart the kernel before starting a new experiment)\n",
    "try:\n",
    "    stop_animation()\n",
    "except:\n",
    "    pass\n",
    "ctrl.end_exp()"
   ]
  },
  {
   "cell_type": "markdown",
   "id": "1e8c19d7-f529-48a6-9cdb-55cde3bf3afb",
   "metadata": {},
   "source": [
    "#### Some simple examples for other available commands"
   ]
  },
  {
   "cell_type": "code",
   "execution_count": null,
   "id": "acfefce0-2500-489f-b379-74d51332607c",
   "metadata": {},
   "outputs": [],
   "source": [
    "# example for setting the whisk speed and acceleration\n",
    "# default is 1500 speed (move as quickly as the arduino can loop) and 500 accel\n",
    "# this must be run after ctrl.init()\n",
    "ctrl.set_speed(1500)\n",
    "ctrl.set_accel(600)"
   ]
  },
  {
   "cell_type": "code",
   "execution_count": null,
   "id": "68434070-6542-47b6-bb99-f355db073a13",
   "metadata": {},
   "outputs": [],
   "source": [
    "# example for setting a new target protraction and retraction for all columns, values are relative to homed 0 value\n",
    "prot_steps = flexlib.deg_to_steps(120)\n",
    "ret_steps = flexlib.deg_to_steps(20)\n",
    "ctrl.default_prot_steps = prot_steps\n",
    "ctrl.default_ret_steps = ret_steps\n",
    "ctrl.set_prot(prot_steps)\n",
    "ctrl.set_ret(ret_steps)"
   ]
  },
  {
   "cell_type": "code",
   "execution_count": null,
   "id": "5a1eda0c-575d-4cbc-a24f-98c897a218f2",
   "metadata": {},
   "outputs": [],
   "source": [
    "# change contact threshold\n",
    "new_thresh = 75\n",
    "\n",
    "# stop whisking and let oscillations stop so a new rest val can be read\n",
    "ctrl.stop_whisking()\n",
    "ctrl.whisking_stopped.wait()\n",
    "time.sleep(2)\n",
    "# read rest val and set new threshold\n",
    "for i in range(ctrl.num_whiskers):\n",
    "    rest_val = ctrl.last_vals[i]\n",
    "    ctrl.thresh_arr[i] = rest_val + new_thresh"
   ]
  },
  {
   "cell_type": "code",
   "execution_count": null,
   "id": "e6fd779b-e4b9-4e5c-80d9-6d605e282572",
   "metadata": {},
   "outputs": [],
   "source": [
    "# manually perform 3 whisks (does not check for contacts)\n",
    "for _ in range(3):\n",
    "    ctrl.whisk()\n",
    "    ctrl.whisking_stopped.wait()"
   ]
  },
  {
   "cell_type": "code",
   "execution_count": null,
   "id": "a7ba8e36-9e59-42b9-936e-bbe29fb6de2a",
   "metadata": {},
   "outputs": [],
   "source": [
    "# whisk 5 times while checking for contacts\n",
    "whisk_count = 1\n",
    "target_count = 5\n",
    "ctrl.start_whisking()\n",
    "ctrl.data_ready.wait()\n",
    "while whisk_count < target_count:\n",
    "    ctrl.whisking_stopped.wait()\n",
    "    ctrl.data_ready.wait()\n",
    "    if not ctrl.is_palpating:\n",
    "        whisk_count += 1\n",
    "    while ctrl.is_palpating:\n",
    "        time.sleep(.1)\n",
    "ctrl.stop_whisking()"
   ]
  },
  {
   "cell_type": "code",
   "execution_count": null,
   "id": "8fe54453-b864-4d98-8a89-3c4ae94c87ce",
   "metadata": {},
   "outputs": [],
   "source": [
    "# disable palpating behavior\n",
    "ctrl.contact_behavior = None"
   ]
  },
  {
   "cell_type": "code",
   "execution_count": null,
   "id": "ee6b1cf1-041e-4ca9-b143-fb844796509a",
   "metadata": {},
   "outputs": [],
   "source": [
    "# enable palpating behavior\n",
    "ctrl.contact_behavior = 'palpate'"
   ]
  },
  {
   "cell_type": "code",
   "execution_count": null,
   "id": "f1e60f54-de72-4324-9fc9-60a4e21a5a9d",
   "metadata": {},
   "outputs": [],
   "source": [
    "# print the time in microseconds the last 10 samples were taken and print values and positions for each whisker at those times\n",
    "print(ctrl.timestamps[-11:-1])\n",
    "for i in range(ctrl.num_whiskers):\n",
    "    print('whisker %d'%i)\n",
    "    print(ctrl.whisker_vals[i][-11:-1])\n",
    "    print(ctrl.whisker_steps[i][-11:-1])"
   ]
  },
  {
   "cell_type": "code",
   "execution_count": null,
   "id": "2b5815d8-a616-406b-b6db-ab41a3edf0ef",
   "metadata": {},
   "outputs": [],
   "source": [
    "# view the data log (pandas dataframe)\n",
    "ctrl.log"
   ]
  },
  {
   "cell_type": "code",
   "execution_count": null,
   "id": "32fbc77b-c4e2-4775-8cc7-0694fd448937",
   "metadata": {},
   "outputs": [],
   "source": [
    "# save the log to a .csv file\n",
    "ctrl.write_log()"
   ]
  },
  {
   "cell_type": "markdown",
   "id": "083c7ae5-41c6-4929-b3ff-e4272de9130f",
   "metadata": {},
   "source": [
    "### Disply signals\n",
    "Create a thread that will display a live feed of the last 300 samples for each whisker"
   ]
  },
  {
   "cell_type": "code",
   "execution_count": null,
   "id": "10fff458-a12f-4e22-8640-5f9704de23aa",
   "metadata": {},
   "outputs": [],
   "source": [
    "# number of samples to display\n",
    "disp_samples = 300\n",
    "# number of seconds between updates\n",
    "update_interval = 0.25\n",
    "\n",
    "# initialize variables\n",
    "signal_data = [[] for _ in range(ctrl.num_whiskers)]  \n",
    "stop_flag = False\n",
    "\n",
    "# Set up the plot\n",
    "fig, ax = plt.subplots()\n",
    "lines = [ax.plot([], [], lw=2)[0] for _ in range(ctrl.num_whiskers)] \n",
    "ax.set_xlim(0, disp_samples)\n",
    "ax.set_ylim(-0.2, 1.2)\n",
    "ax.set_title('Live Signal Data')\n",
    "ax.set_xlabel('Sample')\n",
    "ax.set_ylabel('Volts')\n",
    "\n",
    "# Function to manually update the plot\n",
    "def update_plot():\n",
    "    global ctrl\n",
    "    global disp_samples\n",
    "    global update_interval\n",
    "    while not stop_flag:\n",
    "        for i in range(ctrl.num_whiskers):  # Loop through each signal\n",
    "            if len(ctrl.whisker_vals[i]) < disp_samples:\n",
    "                signal_data[i] = ctrl.whisker_vals[i]\n",
    "            else:\n",
    "                signal_data[i] = ctrl.whisker_vals[i][-301:-1]\n",
    "\n",
    "            signal_data[i] = [j * (1.1 / 1024) for j in signal_data[i]]\n",
    "            x_data = list(range(len(signal_data[i])))\n",
    "            y_data = signal_data[i]\n",
    "            lines[i].set_data(x_data, y_data)\n",
    "        \n",
    "        ax.set_xlim(max(0, len(signal_data[0]) - disp_samples), len(signal_data[0]))  # Update x-axis limit dynamically\n",
    "        clear_output(wait=True)\n",
    "        display(fig)\n",
    "        time.sleep(update_interval)  # Adjust the sleep time to control update rate\n",
    "\n",
    "# Start the plot update function in a separate thread\n",
    "plot_thread = threading.Thread(target=update_plot)\n",
    "plot_thread.daemon = True\n",
    "plot_thread.start()\n",
    "\n",
    "# Function to stop the data acquisition and animation\n",
    "def stop_animation():\n",
    "    global stop_flag\n",
    "    stop_flag = True"
   ]
  },
  {
   "cell_type": "code",
   "execution_count": null,
   "id": "bd9fbc9d-3e5d-41a3-b791-dba3c9da3d0f",
   "metadata": {},
   "outputs": [],
   "source": [
    "# stop animation\n",
    "stop_animation()"
   ]
  }
 ],
 "metadata": {
  "kernelspec": {
   "display_name": "Python [conda env:base] *",
   "language": "python",
   "name": "conda-base-py"
  },
  "language_info": {
   "codemirror_mode": {
    "name": "ipython",
    "version": 3
   },
   "file_extension": ".py",
   "mimetype": "text/x-python",
   "name": "python",
   "nbconvert_exporter": "python",
   "pygments_lexer": "ipython3",
   "version": "3.11.7"
  }
 },
 "nbformat": 4,
 "nbformat_minor": 5
}
